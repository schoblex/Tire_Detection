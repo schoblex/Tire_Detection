{
 "cells": [
  {
   "cell_type": "code",
   "execution_count": null,
   "id": "ba797252",
   "metadata": {},
   "outputs": [],
   "source": [
    "import os\n",
    "import cv2\n",
    "import numpy as np\n",
    "from ultralytics import YOLO\n",
    "import random\n",
    "import shutil\n",
    "from pathlib import Path\n",
    "import pandas as pd"
   ]
  },
  {
   "cell_type": "markdown",
   "id": "7d29fe2a",
   "metadata": {},
   "source": [
    "# Sobel\n",
    "This code creates the Sobel pre-processed Images"
   ]
  },
  {
   "cell_type": "code",
   "execution_count": null,
   "id": "fedded09",
   "metadata": {},
   "outputs": [],
   "source": [
    "input_folder = 'pics'          \n",
    "output_folder = 'sobel'  \n",
    "\n",
    "os.makedirs(output_folder, exist_ok=True)\n",
    "for filename in os.listdir(input_folder):\n",
    "    filepath = os.path.join(input_folder, filename)       \n",
    "    imag = cv2.imread(filepath, cv2.IMREAD_GRAYSCALE)\n",
    "    if imag is None:\n",
    "        print(f\"Skipping file (could not read): {filename}\")\n",
    "        continue\n",
    "    sobel_horizontal_kernel = np.array([[1, 2, 1],[0, 0, 0],[-1, -2, -1]])\n",
    "    img_x = cv2.filter2D(imag, -1, sobel_horizontal_kernel) \n",
    "    sobel_vertical_kernel = np.array([[1, 0, -1],[2, 0, -2],[1, 0, -1]])\n",
    "    img_y = cv2.filter2D(imag, -1, sobel_vertical_kernel) \n",
    "    magnitude = np.sqrt(np.power(img_x, 2.0) + np.power(img_y, 2.0))\n",
    "    magnitude = cv2.normalize(magnitude, None, 0, 255, cv2.NORM_MINMAX)\n",
    "    magnitude = magnitude.astype(\"uint8\")\n",
    "    \n",
    "    output_path = os.path.join(output_folder, filename)\n",
    "    cv2.imwrite(output_path, magnitude)\n",
    "    print(f\"Processed: {filename} -> {output_path}\")"
   ]
  },
  {
   "cell_type": "markdown",
   "id": "f5d07e56",
   "metadata": {},
   "source": [
    "# Creating Labels \n",
    "Making sure all pictures have labels. It creates Labels for the Images without faults."
   ]
  },
  {
   "cell_type": "code",
   "execution_count": null,
   "id": "6893ae32",
   "metadata": {},
   "outputs": [],
   "source": [
    "def create_empty_txts(images_dir, labels_dir):\n",
    "    \n",
    "    os.makedirs(labels_dir, exist_ok=True)\n",
    "\n",
    "    \n",
    "    png_files = [f for f in os.listdir(images_dir) if f.lower().endswith('.png')]\n",
    "    created = 0\n",
    "\n",
    "    for png in png_files:\n",
    "        base_name = os.path.splitext(png)[0]\n",
    "        txt_filename = base_name + \".txt\"\n",
    "        txt_path = os.path.join(labels_dir, txt_filename)\n",
    "\n",
    "        if not os.path.exists(txt_path):\n",
    "            \n",
    "            with open(txt_path, 'w') as f:\n",
    "                pass\n",
    "            print(f\"Created: {txt_filename}\")\n",
    "            created += 1\n",
    "\n",
    "    print(f\"\\nDone. {created} empty .txt file(s) created in '{labels_dir}'.\")\n",
    "\n",
    "images_directory = \"./pics\"   \n",
    "labels_directory = \"./labels\"   \n",
    "create_empty_txts(images_directory, labels_directory)\n",
    "\n"
   ]
  },
  {
   "cell_type": "markdown",
   "id": "c3a70c55",
   "metadata": {},
   "source": [
    "# Splitting\n",
    "\n",
    "Splitting the original images and the labels"
   ]
  },
  {
   "cell_type": "code",
   "execution_count": null,
   "id": "a2705bc8",
   "metadata": {},
   "outputs": [],
   "source": [
    "np.random.seed(777)\n",
    "\n",
    "\n",
    "images_dir = Path(\"pics\")\n",
    "labels_dir = Path(\"labels\")\n",
    " \n",
    "\n",
    "output_dir = Path(\"dataset\")\n",
    "\n",
    "\n",
    "train_ratio = 0.7\n",
    "val_ratio = 0.15\n",
    "test_ratio = 0.15\n",
    "\n",
    "\n",
    "for split in ['train', 'val', 'test']:\n",
    "    (output_dir / 'images' / split).mkdir(parents=True, exist_ok=True)\n",
    "    (output_dir / 'labels' / split).mkdir(parents=True, exist_ok=True)\n",
    "\n",
    "\n",
    "image_files = list(images_dir.glob(\"*.png\"))\n",
    "random.shuffle(image_files)\n",
    "\n",
    "\n",
    "n = len(image_files)\n",
    "n_train = int(n * train_ratio)\n",
    "n_val = int(n * val_ratio)\n",
    "n_test = n - n_train - n_val\n",
    "\n",
    "train_files = image_files[:n_train]\n",
    "val_files = image_files[n_train:n_train + n_val]\n",
    "test_files = image_files[n_train + n_val:]\n",
    "\n",
    "\n",
    "def split(files, split):\n",
    "    for img_path in files:\n",
    "        img_name = img_path.stem\n",
    "        label_path = labels_dir / f\"{img_name}.txt\"\n",
    "\n",
    "        \n",
    "        shutil.copy(img_path, output_dir / 'images' / split / img_path.name)\n",
    "\n",
    "        \n",
    "        if label_path.exists():\n",
    "            shutil.copy(label_path, output_dir / 'labels' / split / label_path.name)\n",
    "        else:\n",
    "            print(f\" Label not found for {img_path.name}, skipping.\")\n",
    "\n",
    "\n",
    "split(train_files, 'train')\n",
    "split(val_files, 'val')\n",
    "split(test_files, 'test')"
   ]
  },
  {
   "cell_type": "markdown",
   "id": "987e7c9a",
   "metadata": {},
   "source": [
    "copies the same split to the pre-processed Images"
   ]
  },
  {
   "cell_type": "code",
   "execution_count": null,
   "id": "2bb2f5ff",
   "metadata": {},
   "outputs": [],
   "source": [
    "original_split_dir = Path(\"dataset\")  \n",
    "preprocessed_images_dir = Path(\"sobel\")  \n",
    "output_dir = Path(\"dataset_split_preprocessed\")  \n",
    "\n",
    "\n",
    "for splits in ['train', 'val', 'test']:\n",
    "    (output_dir / 'images' / splits).mkdir(parents=True, exist_ok=True)\n",
    "\n",
    "\n",
    "def copy_preprocessed(splits):\n",
    "    original_split_path = original_split_dir / 'images' / splits\n",
    "    for img_path in original_split_path.iterdir():\n",
    "        preproc_path = preprocessed_images_dir / img_path.name\n",
    "        if preproc_path.exists():\n",
    "            shutil.copy(preproc_path, output_dir / 'images' / splits / img_path.name)\n",
    "        else:\n",
    "            print(f\"Missing preprocessed file for: {img_path.name}\")\n",
    "\n",
    "\n",
    "for splits in ['train', 'val', 'test']:\n",
    "    copy_preprocessed(splits)\n",
    "\n",
    "# Create the split label folders\n",
    "original_labels_dir = Path(\"dataset/labels\")\n",
    "output_labels_dir = Path(\"dataset_split_preprocessed/labels\")\n",
    "\n",
    "# Create the split label folders\n",
    "for split in ['train', 'val', 'test']:\n",
    "    (output_labels_dir / split).mkdir(parents=True, exist_ok=True)\n",
    "    for label_path in (original_labels_dir / split).iterdir():\n",
    "        shutil.copy(label_path, output_labels_dir / split / label_path.name)\n"
   ]
  },
  {
   "cell_type": "markdown",
   "id": "e80a3583",
   "metadata": {},
   "source": [
    "# Training\n",
    "This trains the Model with the original Images.\n",
    "\n",
    "Please delete *device=0* if cuda is not active."
   ]
  },
  {
   "cell_type": "code",
   "execution_count": null,
   "id": "3ae9801e",
   "metadata": {},
   "outputs": [],
   "source": [
    "np.random.seed(777)\n",
    "def training():\n",
    "    \n",
    "    model = YOLO('yolov8n.pt')  \n",
    "\n",
    "    # Train it\n",
    "    model.train(\n",
    "        data='data.yaml',\n",
    "        epochs=100,\n",
    "        imgsz=640,\n",
    "        batch=8,\n",
    "        lr0=0.001,       \n",
    "        lrf=0.01,        \n",
    "        momentum=0.937,  \n",
    "        weight_decay=0.0005,\n",
    "        warmup_epochs=3,\n",
    "        warmup_momentum=0.8,\n",
    "        box=0.05,        \n",
    "        cls=0.1,         \n",
    "        dfl=1.5,         \n",
    "        device=0 #delete line if cuda is not installed\n",
    "        \n",
    "    )\n",
    "training()"
   ]
  },
  {
   "cell_type": "markdown",
   "id": "616feaf6",
   "metadata": {},
   "source": [
    "\n",
    "This trains the Model with the pre-processed Images\n",
    "\n",
    "Please delete *device=0* if cuda is not active."
   ]
  },
  {
   "cell_type": "code",
   "execution_count": null,
   "id": "bc7c2359",
   "metadata": {},
   "outputs": [],
   "source": [
    "np.random.seed(777)\n",
    "def train_sobel():\n",
    "    \n",
    "    model = YOLO('yolov8n.pt')  \n",
    "\n",
    "    \n",
    "    model.train(\n",
    "        data='sobel.yaml',\n",
    "        epochs=100,\n",
    "        imgsz=640,\n",
    "        batch=8,\n",
    "        lr0=0.001,       # initial learning rate\n",
    "        lrf=0.01,        # final learning rate fraction\n",
    "        momentum=0.937,  # optimizer momentum\n",
    "        weight_decay=0.0005,\n",
    "        warmup_epochs=3,\n",
    "        warmup_momentum=0.8,\n",
    "        box=0.05,        # how much are the boxes valued\n",
    "        cls=0.1,         # only one class= small\n",
    "        dfl=1.5,         # if object or not\n",
    "        device=0          #delete line if cuda is not installed\n",
    "        \n",
    "    )\n",
    "train_sobel()"
   ]
  },
  {
   "cell_type": "markdown",
   "id": "cfe33235",
   "metadata": {},
   "source": [
    "# Testing\n",
    "This test the model trained by the original Images\n",
    "\n",
    "Please delete *device=0* if cuda is not active."
   ]
  },
  {
   "cell_type": "code",
   "execution_count": null,
   "id": "a4f4c17d",
   "metadata": {},
   "outputs": [],
   "source": [
    "def testing():\n",
    "    model = YOLO(\"runs/detect/Normaltrain/weights/best.pt\")\n",
    "    metrics = model.val(\n",
    "        data=\"data.yaml\",\n",
    "        split=\"test\",\n",
    "        device=0,  #delete line if cuda is not installed\n",
    "        imgsz=640\n",
    "    )\n",
    "    print(metrics)\n",
    "    df = pd.DataFrame([metrics.results_dict])\n",
    "    df.to_csv(\"test_metrics.csv\", index=False)\n",
    "testing()"
   ]
  },
  {
   "cell_type": "markdown",
   "id": "78dbe3a1",
   "metadata": {},
   "source": [
    "This test the model trained by the pre-processed Images\n",
    "\n",
    "Please delete *device=0* if cuda is not active."
   ]
  },
  {
   "cell_type": "code",
   "execution_count": null,
   "id": "6ed3f73e",
   "metadata": {},
   "outputs": [],
   "source": [
    "def testing():\n",
    "    model = YOLO(\"runs/detect/Sobeltrain/weights/best.pt\")\n",
    "    metrics = model.val(\n",
    "        data=\"sobel.yaml\",\n",
    "        split=\"test\",\n",
    "        device=0, #delete line if cuda is not installed\n",
    "        imgsz=640\n",
    "    )\n",
    "    print(metrics)\n",
    "    df = pd.DataFrame([metrics.results_dict])\n",
    "    df.to_csv(\"test_metrics.csv\", index=False)\n",
    "testing()"
   ]
  }
 ],
 "metadata": {
  "kernelspec": {
   "display_name": ".venv",
   "language": "python",
   "name": "python3"
  },
  "language_info": {
   "codemirror_mode": {
    "name": "ipython",
    "version": 3
   },
   "file_extension": ".py",
   "mimetype": "text/x-python",
   "name": "python",
   "nbconvert_exporter": "python",
   "pygments_lexer": "ipython3",
   "version": "3.11.9"
  }
 },
 "nbformat": 4,
 "nbformat_minor": 5
}
